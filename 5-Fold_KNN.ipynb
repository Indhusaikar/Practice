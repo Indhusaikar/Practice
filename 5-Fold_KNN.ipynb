{
 "cells": [
  {
   "cell_type": "code",
   "execution_count": 1,
   "id": "9a452551-5395-4df7-ad23-8d7a577882dd",
   "metadata": {},
   "outputs": [],
   "source": [
    "import numpy as np \n",
    "import matplotlib.pyplot as plt\n",
    "import glob\n",
    "import cv2\n",
    "from sklearn.model_selection import train_test_split, cross_val_score, StratifiedKFold\n",
    "from keras.models import Model\n",
    "from keras.applications.inception_v3 import InceptionV3  # Import InceptionV3\n",
    "from sklearn import preprocessing\n",
    "from sklearn.svm import SVC\n",
    "from sklearn import metrics\n",
    "from keras.utils import to_categorical\n",
    "from sklearn.neighbors import KNeighborsClassifier\n",
    "from sklearn.metrics import confusion_matrix, precision_score, recall_score, f1_score\n",
    "import os"
   ]
  },
  {
   "cell_type": "code",
   "execution_count": 3,
   "id": "7991c022-4916-4c03-a71d-485d7f804db9",
   "metadata": {},
   "outputs": [
    {
     "name": "stdout",
     "output_type": "stream",
     "text": [
      "['Healthy', 'Reject']\n"
     ]
    }
   ],
   "source": [
    "# Define the image size\n",
    "SIZE = 256  \n",
    "\n",
    "# Path to the dataset\n",
    "dataset_path = \"G:/datasets/Tomato fruits dataset for binary and multiclass classification/Two Classes\"\n",
    "print(os.listdir(dataset_path))"
   ]
  },
  {
   "cell_type": "code",
   "execution_count": 5,
   "id": "a1997188-f2a5-4991-8e73-078da47a3c90",
   "metadata": {},
   "outputs": [],
   "source": [
    "# Capture images and labels into respective lists\n",
    "images = []\n",
    "labels = []\n",
    "for directory_path in glob.glob(dataset_path + \"/*\"):\n",
    "    label = directory_path.split(\"\\\\\")[-1]\n",
    "    for img_path in glob.glob(os.path.join(directory_path, \"*.jpg\")):\n",
    "        img = cv2.imread(img_path, cv2.IMREAD_COLOR)\n",
    "        img = cv2.resize(img, (SIZE, SIZE))\n",
    "        img = cv2.cvtColor(img, cv2.COLOR_RGB2BGR)\n",
    "        images.append(img)\n",
    "        labels.append(label)\n"
   ]
  },
  {
   "cell_type": "code",
   "execution_count": 6,
   "id": "16e4ec9c-42fd-4e63-9957-125d803e1e3c",
   "metadata": {},
   "outputs": [],
   "source": [
    "\n",
    "# Convert lists to arrays        \n",
    "images = np.array(images)\n",
    "labels = np.array(labels)"
   ]
  },
  {
   "cell_type": "code",
   "execution_count": 9,
   "id": "2217bbf4-a0ea-45eb-a903-e4bedbdfa6d9",
   "metadata": {},
   "outputs": [],
   "source": [
    "# Encode labels from text to integers\n",
    "le = preprocessing.LabelEncoder()\n",
    "labels_encoded = le.fit_transform(labels)\n"
   ]
  },
  {
   "cell_type": "code",
   "execution_count": 11,
   "id": "6162db98-3172-43fb-9ba1-71aa4f2b7c2d",
   "metadata": {},
   "outputs": [],
   "source": [
    "# Split the dataset into training and testing sets\n",
    "x_train, x_test, y_train, y_test = train_test_split(images, labels_encoded, test_size=0.2, random_state=42, stratify=labels_encoded)"
   ]
  },
  {
   "cell_type": "code",
   "execution_count": 13,
   "id": "8bdeda1a-92e0-4b77-aef2-b6706b8882db",
   "metadata": {},
   "outputs": [],
   "source": [
    "# Normalize pixel values to between 0 and 1\n",
    "x_train, x_test = x_train / 255.0, x_test / 255.0"
   ]
  },
  {
   "cell_type": "code",
   "execution_count": 17,
   "id": "3ebee39b-e3ae-4987-a04f-3fd68a675c4b",
   "metadata": {},
   "outputs": [],
   "source": [
    "# One hot encode y values for neural network (if needed later)\n",
    "y_train_one_hot = to_categorical(y_train)\n",
    "y_test_one_hot = to_categorical(y_test)"
   ]
  },
  {
   "cell_type": "code",
   "execution_count": 19,
   "id": "f476aa8a-5bc9-4d8d-8935-c9b4d920edd2",
   "metadata": {},
   "outputs": [],
   "source": [
    "# Load InceptionV3 model without fully connected layers (pretrained on ImageNet)\n",
    "Inception_model = InceptionV3(weights='imagenet', include_top=False, input_shape=(SIZE, SIZE, 3))"
   ]
  },
  {
   "cell_type": "code",
   "execution_count": 21,
   "id": "785d9083-8861-4d27-84e8-bf269196c7b8",
   "metadata": {},
   "outputs": [
    {
     "name": "stdout",
     "output_type": "stream",
     "text": [
      "\u001b[1m60/60\u001b[0m \u001b[32m━━━━━━━━━━━━━━━━━━━━\u001b[0m\u001b[37m\u001b[0m \u001b[1m270s\u001b[0m 4s/step\n"
     ]
    }
   ],
   "source": [
    "# Extract features from images using the pre-trained InceptionV3 model\n",
    "train_features = Inception_model.predict(x_train)\n",
    "train_features = train_features.reshape(train_features.shape[0], -1)  # Flatten features for KNN"
   ]
  },
  {
   "cell_type": "code",
   "execution_count": 23,
   "id": "a920ee23-4c19-4199-8d83-49466d54b9bf",
   "metadata": {},
   "outputs": [
    {
     "name": "stdout",
     "output_type": "stream",
     "text": [
      "\u001b[1m15/15\u001b[0m \u001b[32m━━━━━━━━━━━━━━━━━━━━\u001b[0m\u001b[37m\u001b[0m \u001b[1m62s\u001b[0m 4s/step\n"
     ]
    }
   ],
   "source": [
    "test_features = Inception_model.predict(x_test)\n",
    "test_features = test_features.reshape(test_features.shape[0], -1)  # Flatten features for KNN"
   ]
  },
  {
   "cell_type": "code",
   "execution_count": 25,
   "id": "e6536d90-9af2-4a9b-8f63-df6d9205639e",
   "metadata": {},
   "outputs": [],
   "source": [
    "# Set up k-fold cross-validation\n",
    "kf = StratifiedKFold(n_splits=5, shuffle=True, random_state=42)"
   ]
  },
  {
   "cell_type": "code",
   "execution_count": 27,
   "id": "3542a10e-7376-4da8-a863-518c4e909b70",
   "metadata": {},
   "outputs": [],
   "source": [
    "# KNN model\n",
    "KNN_model = KNeighborsClassifier(n_neighbors=5)"
   ]
  },
  {
   "cell_type": "code",
   "execution_count": 29,
   "id": "1a4b3eff-04a6-4d1b-88d9-3bb4716edad8",
   "metadata": {},
   "outputs": [],
   "source": [
    "# Arrays to store the results for each fold\n",
    "precision_scores = []\n",
    "recall_scores = []\n",
    "f1_scores = []\n",
    "accuracy_scores = []"
   ]
  },
  {
   "cell_type": "code",
   "execution_count": 43,
   "id": "6a37f6d3-1aa7-4d71-bdd3-a53581ebf3df",
   "metadata": {},
   "outputs": [],
   "source": [
    "# Perform k-fold cross-validation\n",
    "for train_index, val_index in kf.split(train_features, y_train):\n",
    "    X_train_fold, X_val_fold = train_features[train_index], train_features[val_index]\n",
    "    y_train_fold, y_val_fold = y_train[train_index], y_train[val_index]\n",
    "    # Train KNN on each fold\n",
    "    KNN_model.fit(X_train_fold, y_train_fold)\n",
    "    y_val_pred = KNN_model.predict(X_val_fold)\n",
    "     # Calculate accuracy, precision, recall, and F1 score for this fold\n",
    "    accuracy = metrics.accuracy_score(y_val_fold, y_val_pred)\n",
    "    precision = precision_score(y_val_fold, y_val_pred, average='weighted')\n",
    "    recall = recall_score(y_val_fold, y_val_pred, average='weighted')\n",
    "    f1 = f1_score(y_val_fold, y_val_pred, average='weighted')\n",
    "       # Append results to the arrays\n",
    "    accuracy_scores.append(accuracy)\n",
    "    precision_scores.append(precision)\n",
    "    recall_scores.append(recall)\n",
    "    f1_scores.append(f1)"
   ]
  },
  {
   "cell_type": "code",
   "execution_count": 45,
   "id": "8f670fe7-84bb-4c8d-9276-653f809707d3",
   "metadata": {},
   "outputs": [
    {
     "name": "stdout",
     "output_type": "stream",
     "text": [
      "[0.8489583333333334, 0.8333333333333334, 0.8307291666666666, 0.84375, 0.8567708333333334, 0.8489583333333334]\n"
     ]
    }
   ],
   "source": [
    "print(accuracy_scores)"
   ]
  },
  {
   "cell_type": "code",
   "execution_count": 51,
   "id": "17aa31eb-0382-4567-af07-783398f33078",
   "metadata": {},
   "outputs": [
    {
     "name": "stdout",
     "output_type": "stream",
     "text": [
      "K-Fold Cross Validation Results (KNN):\n",
      "Average Accuracy: 0.84375\n",
      "Average Precision: 0.8580871353359418\n",
      "Average Recall: 0.84375\n",
      "Average F1 Score: 0.8318757126755906\n"
     ]
    }
   ],
   "source": [
    "# Calculate average scores across all folds\n",
    "avg_accuracy = np.mean(accuracy_scores)\n",
    "avg_precision = np.mean(precision_scores)\n",
    "avg_recall = np.mean(recall_scores)\n",
    "avg_f1 = np.mean(f1_scores)\n",
    "\n",
    "print(f\"K-Fold Cross Validation Results (KNN):\")\n",
    "print(f\"Average Accuracy: {avg_accuracy}\")\n",
    "print(f\"Average Precision: {avg_precision}\")\n",
    "print(f\"Average Recall: {avg_recall}\")\n",
    "print(f\"Average F1 Score: {avg_f1}\")"
   ]
  },
  {
   "cell_type": "code",
   "execution_count": 48,
   "id": "bd5a249e-b873-44b0-ad7b-45ebace57f6b",
   "metadata": {},
   "outputs": [],
   "source": [
    "# Confusion matrix, precision, recall, F1 score for the test set\n",
    "y_pred_knn = KNN_model.predict(test_features)\n",
    "y_pred_labels_knn = le.inverse_transform(y_pred_knn)"
   ]
  },
  {
   "cell_type": "code",
   "execution_count": 64,
   "id": "181e2701-8136-4a6b-b7ba-0510b4e3c6e4",
   "metadata": {},
   "outputs": [
    {
     "name": "stdout",
     "output_type": "stream",
     "text": [
      "\n",
      "Confusion Matrix:\n",
      "[[312   8]\n",
      " [ 66  94]]\n",
      "\n",
      "Class 0: \n",
      "\t\n",
      "True Positives (TP): 312\n",
      "False Positives (FP): 66\n",
      "False Negatives (FN): 8\n",
      "True Negatives (TN): 94\n",
      "Precision: 0.8253968253968254\n",
      "Recall: 0.975\n",
      "F1 Score: 0.8939828080229226\n",
      "\n",
      "Class 1: \n",
      "\t\n",
      "True Positives (TP): 94\n",
      "False Positives (FP): 8\n",
      "False Negatives (FN): 66\n",
      "True Negatives (TN): 312\n",
      "Precision: 0.9215686274509803\n",
      "Recall: 0.5875\n",
      "F1 Score: 0.7175572519083969\n"
     ]
    }
   ],
   "source": [
    "cm = confusion_matrix(le.inverse_transform(y_test), y_pred_labels_knn)\n",
    "precision_per_class = precision_score(le.inverse_transform(y_test), y_pred_labels_knn, average=None)\n",
    "recall_per_class = recall_score(le.inverse_transform(y_test), y_pred_labels_knn, average=None)\n",
    "f1_per_class = f1_score(le.inverse_transform(y_test), y_pred_labels_knn, average=None)\n",
    "\n",
    "print(f\"\\nConfusion Matrix:\\n{cm}\")\n",
    "\n",
    "# Display confusion matrix and per-class precision, recall, F1 score\n",
    "for i in range(len(cm)):\n",
    "    tp = cm[i, i]  # True positives for class i\n",
    "    fn = np.sum(cm[i, :]) - tp  # False negatives for class i\n",
    "    fp = np.sum(cm[:, i]) - tp  # False positives for class i\n",
    "    tn = np.sum(cm) - (tp + fp + fn)  # True negatives for class i\n",
    "    \n",
    "    print(f\"\\nClass {i}: \\n\\t\")\n",
    "    print(f\"True Positives (TP): {tp}\")\n",
    "    print(f\"False Positives (FP): {fp}\")\n",
    "    print(f\"False Negatives (FN): {fn}\")\n",
    "    print(f\"True Negatives (TN): {tn}\")\n",
    "    print(f\"Precision: {precision_per_class[i]}\")\n",
    "    print(f\"Recall: {recall_per_class[i]}\")\n",
    "    print(f\"F1 Score: {f1_per_class[i]}\")\n"
   ]
  },
  {
   "cell_type": "code",
   "execution_count": null,
   "id": "1cece0ef-4df2-412a-be2d-e9550072a8cd",
   "metadata": {},
   "outputs": [],
   "source": []
  }
 ],
 "metadata": {
  "kernelspec": {
   "display_name": "Python 3 (ipykernel)",
   "language": "python",
   "name": "python3"
  },
  "language_info": {
   "codemirror_mode": {
    "name": "ipython",
    "version": 3
   },
   "file_extension": ".py",
   "mimetype": "text/x-python",
   "name": "python",
   "nbconvert_exporter": "python",
   "pygments_lexer": "ipython3",
   "version": "3.12.4"
  }
 },
 "nbformat": 4,
 "nbformat_minor": 5
}
